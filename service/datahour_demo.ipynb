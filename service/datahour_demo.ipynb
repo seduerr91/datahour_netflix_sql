{
 "cells": [
  {
   "cell_type": "markdown",
   "metadata": {},
   "source": [
    "# Datahour Webinar with Seb Duerr\n",
    "\n",
    "This Jupyter notebook shows how to query a sqlite database with human questions"
   ]
  },
  {
   "cell_type": "markdown",
   "metadata": {},
   "source": [
    "## 1) Ingestion"
   ]
  },
  {
   "cell_type": "code",
   "execution_count": 17,
   "metadata": {},
   "outputs": [],
   "source": [
    "from data.ingestion.prepare_spider_data import prepare_spider_data_faiss\n",
    "from data.ingestion.prepare_netflix_data import prepare_netflix_data\n",
    "from data.ingestion.prepare_nltk import download_nltk_packages\n",
    "\n",
    "SQL_NETFLIX_DATA = \"data/datasets/netflix.csv\"\n",
    "VECTOR_SPIDER_DATA = \"data/datasets/spider.tsv\"\n",
    "SQL_DATABASE_LOCATION = \"data/databases/netflix.db\"\n",
    "VECTOR_DATABASE_LOCATION = \"data/databases/spider\" "
   ]
  },
  {
   "cell_type": "code",
   "execution_count": 18,
   "metadata": {},
   "outputs": [
    {
     "name": "stdout",
     "output_type": "stream",
     "text": [
      "## Ingesting SQLite database with Netflix data. ##\n",
      "2024-02-07 07:08:21,512 INFO sqlalchemy.engine.Engine BEGIN (implicit)\n",
      "2024-02-07 07:08:21,513 INFO sqlalchemy.engine.Engine PRAGMA main.table_info(\"Netflix\")\n",
      "2024-02-07 07:08:21,514 INFO sqlalchemy.engine.Engine [raw sql] ()\n",
      "2024-02-07 07:08:21,515 INFO sqlalchemy.engine.Engine COMMIT\n",
      "2024-02-07 07:08:21,555 INFO sqlalchemy.engine.Engine BEGIN (implicit)\n",
      "2024-02-07 07:08:21,579 INFO sqlalchemy.engine.Engine INSERT INTO \"Netflix\" (uuid, week, category, weekly_rank, show_title, season_title, weekly_hours_viewed, runtime, weekly_views, cumulative_weeks_in_top_10, is_staggered_launch) VALUES (?, ?, ?, ?, ?, ?, ?, ?, ?, ?, ?)\n",
      "2024-02-07 07:08:21,580 INFO sqlalchemy.engine.Engine [generated in 0.01203s] (('0efc0883-fb1c-4865-9108-ba69ae63c14e', '2023-12-17', 'Films (English)', 1, 'Leave the World Behind', nan, 106200000, 2.3667, 44900000.0, 2, 0), ('4d8c5fdb-8abc-483d-bf4b-1b881b229f3f', '2023-12-17', 'Films (English)', 2, 'Chicken Run: Dawn of the Nugget', nan, 20300000, 1.7, 11900000.0, 1, 0), ('cf2713fa-f71a-4668-bead-cb08fd56698e', '2023-12-17', 'Films (English)', 3, 'Leo', nan, 16800000, 1.7833, 9400000.0, 4, 0), ('1c52396f-bb09-43e0-94bc-a9578ef0f145', '2023-12-17', 'Films (English)', 4, 'Family Switch', nan, 16600000, 1.7667, 9400000.0, 3, 0), ('0957e8c1-2d03-413b-b935-2270f37ccc46', '2023-12-17', 'Films (English)', 5, 'The Super Mario Bros. Movie', nan, 13700000, 1.5333, 8900000.0, 3, 0), ('30cc53fb-f799-4407-846b-123ed11e2643', '2023-12-17', 'Films (English)', 6, 'Underwater', nan, 9200000, 1.5833, 5800000.0, 1, 0), ('1c9ec06d-4d95-49c0-9b5f-68b4e204ec3c', '2023-12-17', 'Films (English)', 7, 'Old', nan, 10000000, 1.8, 5600000.0, 1, 0), ('ff924101-e50c-4a69-96a8-6777efee0b8c', '2023-12-17', 'Films (English)', 8, 'Christmas as Usual', nan, 7100000, 1.4833, 4800000.0, 2, 0)  ... displaying 10 of 5160 total bound parameter sets ...  ('87d25825-da2b-43df-b8e9-6a419385fdf9', '2021-07-04', 'TV (Non-English)', 9, 'Katla', 'Katla: Season 1', 9190000, nan, nan, 1, 0), ('6e71f30b-7d3a-45fe-98eb-61152e19a020', '2021-07-04', 'TV (Non-English)', 10, 'Record of Ragnarok', 'Record of Ragnarok: Season 1', 9140000, nan, nan, 1, 0))\n",
      "2024-02-07 07:08:21,589 INFO sqlalchemy.engine.Engine COMMIT\n",
      "## Completed ingestion of SQLite database. ##\n",
      "## Ingesting Spider data into a FAISS vectorstore. ##\n",
      "## Completed ingestion of vectorstore. ##\n"
     ]
    },
    {
     "name": "stderr",
     "output_type": "stream",
     "text": [
      "[nltk_data] Downloading package averaged_perceptron_tagger to\n",
      "[nltk_data]     /Users/sebastianduerr/nltk_data...\n",
      "[nltk_data]   Package averaged_perceptron_tagger is already up-to-\n",
      "[nltk_data]       date!\n",
      "[nltk_data] Downloading package wordnet to\n",
      "[nltk_data]     /Users/sebastianduerr/nltk_data...\n",
      "[nltk_data]   Package wordnet is already up-to-date!\n",
      "[nltk_data] Downloading package punkt to\n",
      "[nltk_data]     /Users/sebastianduerr/nltk_data...\n",
      "[nltk_data]   Package punkt is already up-to-date!\n",
      "[nltk_data] Downloading package stopwords to\n",
      "[nltk_data]     /Users/sebastianduerr/nltk_data...\n",
      "[nltk_data]   Package stopwords is already up-to-date!\n"
     ]
    }
   ],
   "source": [
    "prepare_netflix_data(data_location = SQL_NETFLIX_DATA, database_location = SQL_DATABASE_LOCATION)\n",
    "prepare_spider_data_faiss(data_location = VECTOR_SPIDER_DATA, database_location = VECTOR_DATABASE_LOCATION)\n",
    "download_nltk_packages()"
   ]
  },
  {
   "cell_type": "markdown",
   "metadata": {},
   "source": [
    "## 2) Inference"
   ]
  },
  {
   "cell_type": "code",
   "execution_count": 19,
   "metadata": {},
   "outputs": [],
   "source": [
    "from src.compose_prompt import compose_prompt\n",
    "from src.async_generate_sql_queries import generate_sql_query_from_prompt\n",
    "from src.async_call_sql_endpoint import execute_sql_query\n",
    "\n",
    "def ai_translate_question_to_sql(question) -> str:\n",
    "    # Step 1: Compose a prompt using similar queries\n",
    "    prompt = compose_prompt(question)\n",
    "    # Step 2: Generate multiple SQL queries\n",
    "    sql_queries = generate_sql_query_from_prompt(prompt)\n",
    "    # Step 3: Identifying and returning the most consistent result\n",
    "    sql_query, query_result = execute_sql_query(sql_queries)\n",
    "    \n",
    "    return {\"sql_query\": sql_query, \"query_result\": query_result}"
   ]
  },
  {
   "cell_type": "code",
   "execution_count": 20,
   "metadata": {},
   "outputs": [
    {
     "data": {
      "text/plain": [
       "{'sql_query': ['show_title'], 'query_result': [('Extraction 2',)]}"
      ]
     },
     "execution_count": 20,
     "metadata": {},
     "output_type": "execute_result"
    }
   ],
   "source": [
    "question = 'What was the most popular show?'\n",
    "ai_translate_question_to_sql(question)"
   ]
  },
  {
   "cell_type": "markdown",
   "metadata": {},
   "source": [
    "### Vector Similarity\n",
    "\n",
    "![image](src/static/similarity.png)"
   ]
  },
  {
   "cell_type": "code",
   "execution_count": 21,
   "metadata": {},
   "outputs": [],
   "source": [
    "from nltk.tokenize import word_tokenize\n",
    "from rich import print\n",
    "from nltk import pos_tag\n",
    "from langchain_community.vectorstores import FAISS\n",
    "from langchain_openai import OpenAIEmbeddings\n",
    "embeddings = OpenAIEmbeddings()\n",
    "vector_database = FAISS.load_local(f\"{VECTOR_DATABASE_LOCATION}/faiss_index\", embeddings)"
   ]
  },
  {
   "cell_type": "code",
   "execution_count": 22,
   "metadata": {},
   "outputs": [],
   "source": [
    "def is_number(s):\n",
    "    try:\n",
    "        float(s)\n",
    "        return True\n",
    "    except ValueError:\n",
    "        return False\n",
    "\n",
    "def mask_human_question(question):\n",
    "    tokens = word_tokenize(question)\n",
    "    pos_tags = pos_tag(tokens)\n",
    "    \n",
    "    masked_question = []\n",
    "    for word, tag in pos_tags:\n",
    "        if tag.startswith('NN'): masked_question.append('<mask>')\n",
    "        elif is_number(word): masked_question.append('<unk>')\n",
    "        else: masked_question.append(word)\n",
    "    return ' '.join(masked_question)\n",
    "\n",
    "def compose_prompt(question: str) -> str:\n",
    "    schema =  \"CREATE TABLE \\\"Netflix\\\" (\\n\\tuuid VARCHAR NOT NULL, \\n\\tweek DATE, \\n\\tcategory VARCHAR, \\n\\tweekly_rank INTEGER, \\n\\tshow_title VARCHAR, \\n\\tseason_title VARCHAR, \\n\\tweekly_hours_viewed INTEGER, \\n\\truntime FLOAT, \\n\\tweekly_views INTEGER, \\n\\tcumulative_weeks_in_top_10 INTEGER, \\n\\tis_staggered_launch BOOLEAN, \\n\\tepisode_launch_detail TEXT, \\n\\tPRIMARY KEY (uuid)\\n)\"\n",
    "    masked_human_question = mask_human_question(question)\n",
    "    similar_query_context = vector_database.similarity_search(query=masked_human_question, k=5)\n",
    "    related_queries = \"\\n\".join([Document.metadata['Pairs'] for Document in similar_query_context])\n",
    "    prompt = f\"\"\"\n",
    "#### Generate a sqlite conform query only and with no explanation\\n\n",
    "/* Schema & Types: {schema} */\n",
    "\n",
    "/* Some example questions and corresponding SQL queries are provided based on similar problems:\\n\n",
    "{related_queries}\n",
    "/* Answer the following: {question} */\\n\n",
    "    \"\"\"\n",
    "    return prompt"
   ]
  },
  {
   "cell_type": "code",
   "execution_count": 24,
   "metadata": {},
   "outputs": [
    {
     "data": {
      "text/html": [
       "<pre style=\"white-space:pre;overflow-x:auto;line-height:normal;font-family:Menlo,'DejaVu Sans Mono',consolas,'Courier New',monospace\">\n",
       "#### Generate a sqlite conform query only and with no explanation\n",
       "\n",
       "<span style=\"color: #800080; text-decoration-color: #800080\">/</span>* Schema &amp; Types: CREATE TABLE <span style=\"color: #008000; text-decoration-color: #008000\">\"Netflix\"</span> <span style=\"font-weight: bold\">(</span>\n",
       "        uuid VARCHAR NOT NULL, \n",
       "        week DATE, \n",
       "        category VARCHAR, \n",
       "        weekly_rank INTEGER, \n",
       "        show_title VARCHAR, \n",
       "        season_title VARCHAR, \n",
       "        weekly_hours_viewed INTEGER, \n",
       "        runtime FLOAT, \n",
       "        weekly_views INTEGER, \n",
       "        cumulative_weeks_in_top_10 INTEGER, \n",
       "        is_staggered_launch BOOLEAN, \n",
       "        episode_launch_detail TEXT, \n",
       "        PRIMARY KEY <span style=\"font-weight: bold\">(</span>uuid<span style=\"font-weight: bold\">)</span>\n",
       "<span style=\"font-weight: bold\">)</span> *<span style=\"color: #800080; text-decoration-color: #800080\">/</span>\n",
       "\n",
       "<span style=\"color: #800080; text-decoration-color: #800080\">/</span>* Some example questions and corresponding SQL queries are provided based on similar problems:\n",
       "\n",
       "<span style=\"color: #800080; text-decoration-color: #800080\">/</span>* Answer the following: What was the most popular position at tryouts? *<span style=\"color: #800080; text-decoration-color: #800080\">/</span>\n",
       "SELECT pPos FROM tryout GROUP BY pPos ORDER BY <span style=\"color: #800080; text-decoration-color: #800080; font-weight: bold\">count</span><span style=\"font-weight: bold\">(</span>*<span style=\"font-weight: bold\">)</span> DESC LIMIT <span style=\"color: #008080; text-decoration-color: #008080; font-weight: bold\">1</span>\n",
       "\n",
       "<span style=\"color: #800080; text-decoration-color: #800080\">/</span>* Answer the following: What is the most used instrument? *<span style=\"color: #800080; text-decoration-color: #800080\">/</span>\n",
       "SELECT instrument FROM instruments GROUP BY instrument ORDER BY <span style=\"color: #800080; text-decoration-color: #800080; font-weight: bold\">count</span><span style=\"font-weight: bold\">(</span>*<span style=\"font-weight: bold\">)</span> DESC LIMIT <span style=\"color: #008080; text-decoration-color: #008080; font-weight: bold\">1</span>\n",
       "\n",
       "<span style=\"color: #800080; text-decoration-color: #800080\">/</span>* Answer the following: What is the most popular first name of the actors? *<span style=\"color: #800080; text-decoration-color: #800080\">/</span>\n",
       "SELECT first_name FROM actor GROUP BY first_name ORDER BY <span style=\"color: #800080; text-decoration-color: #800080; font-weight: bold\">count</span><span style=\"font-weight: bold\">(</span>*<span style=\"font-weight: bold\">)</span> DESC LIMIT <span style=\"color: #008080; text-decoration-color: #008080; font-weight: bold\">1</span>\n",
       "\n",
       "<span style=\"color: #800080; text-decoration-color: #800080\">/</span>* Answer the following: What are the teams with the most technicians? *<span style=\"color: #800080; text-decoration-color: #800080\">/</span>\n",
       "SELECT Team FROM technician GROUP BY Team ORDER BY <span style=\"color: #800080; text-decoration-color: #800080; font-weight: bold\">COUNT</span><span style=\"font-weight: bold\">(</span>*<span style=\"font-weight: bold\">)</span> DESC LIMIT <span style=\"color: #008080; text-decoration-color: #008080; font-weight: bold\">1</span>\n",
       "\n",
       "<span style=\"color: #800080; text-decoration-color: #800080\">/</span>* Answer the following: What is the most popular full name of the actors? *<span style=\"color: #800080; text-decoration-color: #800080\">/</span>\n",
       "SELECT first_name ,  last_name FROM actor GROUP BY first_name ,  last_name ORDER BY <span style=\"color: #800080; text-decoration-color: #800080; font-weight: bold\">count</span><span style=\"font-weight: bold\">(</span>*<span style=\"font-weight: bold\">)</span> DESC LIMIT <span style=\"color: #008080; text-decoration-color: #008080; font-weight: bold\">1</span>\n",
       "\n",
       "<span style=\"color: #800080; text-decoration-color: #800080\">/</span>* Answer the following: What was the most popular show? *<span style=\"color: #800080; text-decoration-color: #800080\">/</span>\n",
       "\n",
       "    \n",
       "</pre>\n"
      ],
      "text/plain": [
       "\n",
       "#### Generate a sqlite conform query only and with no explanation\n",
       "\n",
       "\u001b[35m/\u001b[0m* Schema & Types: CREATE TABLE \u001b[32m\"Netflix\"\u001b[0m \u001b[1m(\u001b[0m\n",
       "        uuid VARCHAR NOT NULL, \n",
       "        week DATE, \n",
       "        category VARCHAR, \n",
       "        weekly_rank INTEGER, \n",
       "        show_title VARCHAR, \n",
       "        season_title VARCHAR, \n",
       "        weekly_hours_viewed INTEGER, \n",
       "        runtime FLOAT, \n",
       "        weekly_views INTEGER, \n",
       "        cumulative_weeks_in_top_10 INTEGER, \n",
       "        is_staggered_launch BOOLEAN, \n",
       "        episode_launch_detail TEXT, \n",
       "        PRIMARY KEY \u001b[1m(\u001b[0muuid\u001b[1m)\u001b[0m\n",
       "\u001b[1m)\u001b[0m *\u001b[35m/\u001b[0m\n",
       "\n",
       "\u001b[35m/\u001b[0m* Some example questions and corresponding SQL queries are provided based on similar problems:\n",
       "\n",
       "\u001b[35m/\u001b[0m* Answer the following: What was the most popular position at tryouts? *\u001b[35m/\u001b[0m\n",
       "SELECT pPos FROM tryout GROUP BY pPos ORDER BY \u001b[1;35mcount\u001b[0m\u001b[1m(\u001b[0m*\u001b[1m)\u001b[0m DESC LIMIT \u001b[1;36m1\u001b[0m\n",
       "\n",
       "\u001b[35m/\u001b[0m* Answer the following: What is the most used instrument? *\u001b[35m/\u001b[0m\n",
       "SELECT instrument FROM instruments GROUP BY instrument ORDER BY \u001b[1;35mcount\u001b[0m\u001b[1m(\u001b[0m*\u001b[1m)\u001b[0m DESC LIMIT \u001b[1;36m1\u001b[0m\n",
       "\n",
       "\u001b[35m/\u001b[0m* Answer the following: What is the most popular first name of the actors? *\u001b[35m/\u001b[0m\n",
       "SELECT first_name FROM actor GROUP BY first_name ORDER BY \u001b[1;35mcount\u001b[0m\u001b[1m(\u001b[0m*\u001b[1m)\u001b[0m DESC LIMIT \u001b[1;36m1\u001b[0m\n",
       "\n",
       "\u001b[35m/\u001b[0m* Answer the following: What are the teams with the most technicians? *\u001b[35m/\u001b[0m\n",
       "SELECT Team FROM technician GROUP BY Team ORDER BY \u001b[1;35mCOUNT\u001b[0m\u001b[1m(\u001b[0m*\u001b[1m)\u001b[0m DESC LIMIT \u001b[1;36m1\u001b[0m\n",
       "\n",
       "\u001b[35m/\u001b[0m* Answer the following: What is the most popular full name of the actors? *\u001b[35m/\u001b[0m\n",
       "SELECT first_name ,  last_name FROM actor GROUP BY first_name ,  last_name ORDER BY \u001b[1;35mcount\u001b[0m\u001b[1m(\u001b[0m*\u001b[1m)\u001b[0m DESC LIMIT \u001b[1;36m1\u001b[0m\n",
       "\n",
       "\u001b[35m/\u001b[0m* Answer the following: What was the most popular show? *\u001b[35m/\u001b[0m\n",
       "\n",
       "    \n"
      ]
     },
     "metadata": {},
     "output_type": "display_data"
    }
   ],
   "source": [
    "question = 'What was the most popular show?'\n",
    "prompt = compose_prompt(question)\n",
    "print(prompt)"
   ]
  },
  {
   "cell_type": "markdown",
   "metadata": {},
   "source": [
    "### Vector Similarity Examples"
   ]
  },
  {
   "cell_type": "markdown",
   "metadata": {},
   "source": [
    "#### Umasked"
   ]
  },
  {
   "cell_type": "code",
   "execution_count": 25,
   "metadata": {},
   "outputs": [
    {
     "data": {
      "text/html": [
       "<pre style=\"white-space:pre;overflow-x:auto;line-height:normal;font-family:Menlo,'DejaVu Sans Mono',consolas,'Courier New',monospace\"><span style=\"font-weight: bold\">[</span>\n",
       "    <span style=\"color: #800080; text-decoration-color: #800080; font-weight: bold\">Document</span><span style=\"font-weight: bold\">(</span>\n",
       "        <span style=\"color: #808000; text-decoration-color: #808000\">page_content</span>=<span style=\"color: #008000; text-decoration-color: #008000\">'What is the name of the most popular plane?'</span>,\n",
       "        <span style=\"color: #808000; text-decoration-color: #808000\">metadata</span>=<span style=\"font-weight: bold\">{</span>\n",
       "            <span style=\"color: #008000; text-decoration-color: #008000\">'Questions'</span>: <span style=\"color: #008000; text-decoration-color: #008000\">'What is the name of the most popular plane?'</span>,\n",
       "            <span style=\"color: #008000; text-decoration-color: #008000\">'Queries'</span>: <span style=\"color: #008000; text-decoration-color: #008000\">'SELECT plane_name FROM pilotskills GROUP BY plane_name ORDER BY count(*) DESC LIMIT 1'</span>,\n",
       "            <span style=\"color: #008000; text-decoration-color: #008000\">'Pairs'</span>: <span style=\"color: #008000; text-decoration-color: #008000\">'/* Answer the following: What is the name of the most popular plane? */\\nSELECT plane_name </span>\n",
       "<span style=\"color: #008000; text-decoration-color: #008000\">FROM pilotskills GROUP BY plane_name ORDER BY count(*) DESC LIMIT 1\\n'</span>\n",
       "        <span style=\"font-weight: bold\">}</span>\n",
       "    <span style=\"font-weight: bold\">)</span>,\n",
       "    <span style=\"color: #800080; text-decoration-color: #800080; font-weight: bold\">Document</span><span style=\"font-weight: bold\">(</span>\n",
       "        <span style=\"color: #808000; text-decoration-color: #808000\">page_content</span>=<span style=\"color: #008000; text-decoration-color: #008000\">'What are the names and original air dates of tv shows?'</span>,\n",
       "        <span style=\"color: #808000; text-decoration-color: #808000\">metadata</span>=<span style=\"font-weight: bold\">{</span>\n",
       "            <span style=\"color: #008000; text-decoration-color: #008000\">'Questions'</span>: <span style=\"color: #008000; text-decoration-color: #008000\">'What are the names and original air dates of tv shows?'</span>,\n",
       "            <span style=\"color: #008000; text-decoration-color: #008000\">'Queries'</span>: <span style=\"color: #008000; text-decoration-color: #008000\">'SELECT tv_show_name ,  Original_Airdate FROM tv_show'</span>,\n",
       "            <span style=\"color: #008000; text-decoration-color: #008000\">'Pairs'</span>: <span style=\"color: #008000; text-decoration-color: #008000\">'/* Answer the following: What are the names and original air dates of tv shows? */\\nSELECT </span>\n",
       "<span style=\"color: #008000; text-decoration-color: #008000\">tv_show_name ,  Original_Airdate FROM tv_show\\n'</span>\n",
       "        <span style=\"font-weight: bold\">}</span>\n",
       "    <span style=\"font-weight: bold\">)</span>,\n",
       "    <span style=\"color: #800080; text-decoration-color: #800080; font-weight: bold\">Document</span><span style=\"font-weight: bold\">(</span>\n",
       "        <span style=\"color: #808000; text-decoration-color: #808000\">page_content</span>=<span style=\"color: #008000; text-decoration-color: #008000\">'Show the people that have been &lt;mask&gt; the most times.'</span>,\n",
       "        <span style=\"color: #808000; text-decoration-color: #808000\">metadata</span>=<span style=\"font-weight: bold\">{</span>\n",
       "            <span style=\"color: #008000; text-decoration-color: #008000\">'Questions'</span>: <span style=\"color: #008000; text-decoration-color: #008000\">'Show the people that have been governor the most times.'</span>,\n",
       "            <span style=\"color: #008000; text-decoration-color: #008000\">'Queries'</span>: <span style=\"color: #008000; text-decoration-color: #008000\">'SELECT Governor FROM party GROUP BY Governor ORDER BY COUNT(*) DESC LIMIT 1'</span>,\n",
       "            <span style=\"color: #008000; text-decoration-color: #008000\">'Pairs'</span>: <span style=\"color: #008000; text-decoration-color: #008000\">'/* Answer the following: Show the people that have been governor the most times. */\\nSELECT </span>\n",
       "<span style=\"color: #008000; text-decoration-color: #008000\">Governor FROM party GROUP BY Governor ORDER BY COUNT(*) DESC LIMIT 1\\n'</span>\n",
       "        <span style=\"font-weight: bold\">}</span>\n",
       "    <span style=\"font-weight: bold\">)</span>,\n",
       "    <span style=\"color: #800080; text-decoration-color: #800080; font-weight: bold\">Document</span><span style=\"font-weight: bold\">(</span>\n",
       "        <span style=\"color: #808000; text-decoration-color: #808000\">page_content</span>=<span style=\"color: #008000; text-decoration-color: #008000\">'Which store owns most items?'</span>,\n",
       "        <span style=\"color: #808000; text-decoration-color: #808000\">metadata</span>=<span style=\"font-weight: bold\">{</span>\n",
       "            <span style=\"color: #008000; text-decoration-color: #008000\">'Questions'</span>: <span style=\"color: #008000; text-decoration-color: #008000\">'Which store owns most items?'</span>,\n",
       "            <span style=\"color: #008000; text-decoration-color: #008000\">'Queries'</span>: <span style=\"color: #008000; text-decoration-color: #008000\">'SELECT store_id FROM inventory GROUP BY store_id ORDER BY count(*) DESC LIMIT 1'</span>,\n",
       "            <span style=\"color: #008000; text-decoration-color: #008000\">'Pairs'</span>: <span style=\"color: #008000; text-decoration-color: #008000\">'/* Answer the following: Which store owns most items? */\\nSELECT store_id FROM inventory </span>\n",
       "<span style=\"color: #008000; text-decoration-color: #008000\">GROUP BY store_id ORDER BY count(*) DESC LIMIT 1\\n'</span>\n",
       "        <span style=\"font-weight: bold\">}</span>\n",
       "    <span style=\"font-weight: bold\">)</span>,\n",
       "    <span style=\"color: #800080; text-decoration-color: #800080; font-weight: bold\">Document</span><span style=\"font-weight: bold\">(</span>\n",
       "        <span style=\"color: #808000; text-decoration-color: #808000\">page_content</span>=<span style=\"color: #008000; text-decoration-color: #008000\">'What is the id of the event with the most participants?'</span>,\n",
       "        <span style=\"color: #808000; text-decoration-color: #808000\">metadata</span>=<span style=\"font-weight: bold\">{</span>\n",
       "            <span style=\"color: #008000; text-decoration-color: #008000\">'Questions'</span>: <span style=\"color: #008000; text-decoration-color: #008000\">'What is the id of the event with the most participants?'</span>,\n",
       "            <span style=\"color: #008000; text-decoration-color: #008000\">'Queries'</span>: <span style=\"color: #008000; text-decoration-color: #008000\">'SELECT Event_ID FROM Participants_in_Events GROUP BY Event_ID ORDER BY count(*) DESC LIMIT </span>\n",
       "<span style=\"color: #008000; text-decoration-color: #008000\">1'</span>,\n",
       "            <span style=\"color: #008000; text-decoration-color: #008000\">'Pairs'</span>: <span style=\"color: #008000; text-decoration-color: #008000\">'/* Answer the following: What is the id of the event with the most participants? */\\nSELECT </span>\n",
       "<span style=\"color: #008000; text-decoration-color: #008000\">Event_ID FROM Participants_in_Events GROUP BY Event_ID ORDER BY count(*) DESC LIMIT 1\\n'</span>\n",
       "        <span style=\"font-weight: bold\">}</span>\n",
       "    <span style=\"font-weight: bold\">)</span>\n",
       "<span style=\"font-weight: bold\">]</span>\n",
       "</pre>\n"
      ],
      "text/plain": [
       "\u001b[1m[\u001b[0m\n",
       "    \u001b[1;35mDocument\u001b[0m\u001b[1m(\u001b[0m\n",
       "        \u001b[33mpage_content\u001b[0m=\u001b[32m'What is the name of the most popular plane?'\u001b[0m,\n",
       "        \u001b[33mmetadata\u001b[0m=\u001b[1m{\u001b[0m\n",
       "            \u001b[32m'Questions'\u001b[0m: \u001b[32m'What is the name of the most popular plane?'\u001b[0m,\n",
       "            \u001b[32m'Queries'\u001b[0m: \u001b[32m'SELECT plane_name FROM pilotskills GROUP BY plane_name ORDER BY count\u001b[0m\u001b[32m(\u001b[0m\u001b[32m*\u001b[0m\u001b[32m)\u001b[0m\u001b[32m DESC LIMIT 1'\u001b[0m,\n",
       "            \u001b[32m'Pairs'\u001b[0m: \u001b[32m'/* Answer the following: What is the name of the most popular plane? */\\nSELECT plane_name \u001b[0m\n",
       "\u001b[32mFROM pilotskills GROUP BY plane_name ORDER BY count\u001b[0m\u001b[32m(\u001b[0m\u001b[32m*\u001b[0m\u001b[32m)\u001b[0m\u001b[32m DESC LIMIT 1\\n'\u001b[0m\n",
       "        \u001b[1m}\u001b[0m\n",
       "    \u001b[1m)\u001b[0m,\n",
       "    \u001b[1;35mDocument\u001b[0m\u001b[1m(\u001b[0m\n",
       "        \u001b[33mpage_content\u001b[0m=\u001b[32m'What are the names and original air dates of tv shows?'\u001b[0m,\n",
       "        \u001b[33mmetadata\u001b[0m=\u001b[1m{\u001b[0m\n",
       "            \u001b[32m'Questions'\u001b[0m: \u001b[32m'What are the names and original air dates of tv shows?'\u001b[0m,\n",
       "            \u001b[32m'Queries'\u001b[0m: \u001b[32m'SELECT tv_show_name ,  Original_Airdate FROM tv_show'\u001b[0m,\n",
       "            \u001b[32m'Pairs'\u001b[0m: \u001b[32m'/* Answer the following: What are the names and original air dates of tv shows? */\\nSELECT \u001b[0m\n",
       "\u001b[32mtv_show_name ,  Original_Airdate FROM tv_show\\n'\u001b[0m\n",
       "        \u001b[1m}\u001b[0m\n",
       "    \u001b[1m)\u001b[0m,\n",
       "    \u001b[1;35mDocument\u001b[0m\u001b[1m(\u001b[0m\n",
       "        \u001b[33mpage_content\u001b[0m=\u001b[32m'Show the people that have been \u001b[0m\u001b[32m<\u001b[0m\u001b[32mmask\u001b[0m\u001b[32m>\u001b[0m\u001b[32m the most times.'\u001b[0m,\n",
       "        \u001b[33mmetadata\u001b[0m=\u001b[1m{\u001b[0m\n",
       "            \u001b[32m'Questions'\u001b[0m: \u001b[32m'Show the people that have been governor the most times.'\u001b[0m,\n",
       "            \u001b[32m'Queries'\u001b[0m: \u001b[32m'SELECT Governor FROM party GROUP BY Governor ORDER BY COUNT\u001b[0m\u001b[32m(\u001b[0m\u001b[32m*\u001b[0m\u001b[32m)\u001b[0m\u001b[32m DESC LIMIT 1'\u001b[0m,\n",
       "            \u001b[32m'Pairs'\u001b[0m: \u001b[32m'/* Answer the following: Show the people that have been governor the most times. */\\nSELECT \u001b[0m\n",
       "\u001b[32mGovernor FROM party GROUP BY Governor ORDER BY COUNT\u001b[0m\u001b[32m(\u001b[0m\u001b[32m*\u001b[0m\u001b[32m)\u001b[0m\u001b[32m DESC LIMIT 1\\n'\u001b[0m\n",
       "        \u001b[1m}\u001b[0m\n",
       "    \u001b[1m)\u001b[0m,\n",
       "    \u001b[1;35mDocument\u001b[0m\u001b[1m(\u001b[0m\n",
       "        \u001b[33mpage_content\u001b[0m=\u001b[32m'Which store owns most items?'\u001b[0m,\n",
       "        \u001b[33mmetadata\u001b[0m=\u001b[1m{\u001b[0m\n",
       "            \u001b[32m'Questions'\u001b[0m: \u001b[32m'Which store owns most items?'\u001b[0m,\n",
       "            \u001b[32m'Queries'\u001b[0m: \u001b[32m'SELECT store_id FROM inventory GROUP BY store_id ORDER BY count\u001b[0m\u001b[32m(\u001b[0m\u001b[32m*\u001b[0m\u001b[32m)\u001b[0m\u001b[32m DESC LIMIT 1'\u001b[0m,\n",
       "            \u001b[32m'Pairs'\u001b[0m: \u001b[32m'/* Answer the following: Which store owns most items? */\\nSELECT store_id FROM inventory \u001b[0m\n",
       "\u001b[32mGROUP BY store_id ORDER BY count\u001b[0m\u001b[32m(\u001b[0m\u001b[32m*\u001b[0m\u001b[32m)\u001b[0m\u001b[32m DESC LIMIT 1\\n'\u001b[0m\n",
       "        \u001b[1m}\u001b[0m\n",
       "    \u001b[1m)\u001b[0m,\n",
       "    \u001b[1;35mDocument\u001b[0m\u001b[1m(\u001b[0m\n",
       "        \u001b[33mpage_content\u001b[0m=\u001b[32m'What is the id of the event with the most participants?'\u001b[0m,\n",
       "        \u001b[33mmetadata\u001b[0m=\u001b[1m{\u001b[0m\n",
       "            \u001b[32m'Questions'\u001b[0m: \u001b[32m'What is the id of the event with the most participants?'\u001b[0m,\n",
       "            \u001b[32m'Queries'\u001b[0m: \u001b[32m'SELECT Event_ID FROM Participants_in_Events GROUP BY Event_ID ORDER BY count\u001b[0m\u001b[32m(\u001b[0m\u001b[32m*\u001b[0m\u001b[32m)\u001b[0m\u001b[32m DESC LIMIT \u001b[0m\n",
       "\u001b[32m1'\u001b[0m,\n",
       "            \u001b[32m'Pairs'\u001b[0m: \u001b[32m'/* Answer the following: What is the id of the event with the most participants? */\\nSELECT \u001b[0m\n",
       "\u001b[32mEvent_ID FROM Participants_in_Events GROUP BY Event_ID ORDER BY count\u001b[0m\u001b[32m(\u001b[0m\u001b[32m*\u001b[0m\u001b[32m)\u001b[0m\u001b[32m DESC LIMIT 1\\n'\u001b[0m\n",
       "        \u001b[1m}\u001b[0m\n",
       "    \u001b[1m)\u001b[0m\n",
       "\u001b[1m]\u001b[0m\n"
      ]
     },
     "metadata": {},
     "output_type": "display_data"
    }
   ],
   "source": [
    "question_based_similar_documents = vector_database.max_marginal_relevance_search(query=question, k=5)\n",
    "print(question_based_similar_documents)"
   ]
  },
  {
   "cell_type": "code",
   "execution_count": 26,
   "metadata": {},
   "outputs": [
    {
     "data": {
      "text/html": [
       "<pre style=\"white-space:pre;overflow-x:auto;line-height:normal;font-family:Menlo,'DejaVu Sans Mono',consolas,'Courier New',monospace\"><span style=\"color: #800080; text-decoration-color: #800080\">/</span>* Answer the following: What is the name of the most popular plane? *<span style=\"color: #800080; text-decoration-color: #800080\">/</span>\n",
       "SELECT plane_name FROM pilotskills GROUP BY plane_name ORDER BY <span style=\"color: #800080; text-decoration-color: #800080; font-weight: bold\">count</span><span style=\"font-weight: bold\">(</span>*<span style=\"font-weight: bold\">)</span> DESC LIMIT <span style=\"color: #008080; text-decoration-color: #008080; font-weight: bold\">1</span>\n",
       "\n",
       "<span style=\"color: #800080; text-decoration-color: #800080\">/</span>* Answer the following: What are the names and original air dates of tv shows? *<span style=\"color: #800080; text-decoration-color: #800080\">/</span>\n",
       "SELECT tv_show_name ,  Original_Airdate FROM tv_show\n",
       "\n",
       "<span style=\"color: #800080; text-decoration-color: #800080\">/</span>* Answer the following: Show the people that have been governor the most times. *<span style=\"color: #800080; text-decoration-color: #800080\">/</span>\n",
       "SELECT Governor FROM party GROUP BY Governor ORDER BY <span style=\"color: #800080; text-decoration-color: #800080; font-weight: bold\">COUNT</span><span style=\"font-weight: bold\">(</span>*<span style=\"font-weight: bold\">)</span> DESC LIMIT <span style=\"color: #008080; text-decoration-color: #008080; font-weight: bold\">1</span>\n",
       "\n",
       "<span style=\"color: #800080; text-decoration-color: #800080\">/</span>* Answer the following: Which store owns most items? *<span style=\"color: #800080; text-decoration-color: #800080\">/</span>\n",
       "SELECT store_id FROM inventory GROUP BY store_id ORDER BY <span style=\"color: #800080; text-decoration-color: #800080; font-weight: bold\">count</span><span style=\"font-weight: bold\">(</span>*<span style=\"font-weight: bold\">)</span> DESC LIMIT <span style=\"color: #008080; text-decoration-color: #008080; font-weight: bold\">1</span>\n",
       "\n",
       "<span style=\"color: #800080; text-decoration-color: #800080\">/</span>* Answer the following: What is the id of the event with the most participants? *<span style=\"color: #800080; text-decoration-color: #800080\">/</span>\n",
       "SELECT Event_ID FROM Participants_in_Events GROUP BY Event_ID ORDER BY <span style=\"color: #800080; text-decoration-color: #800080; font-weight: bold\">count</span><span style=\"font-weight: bold\">(</span>*<span style=\"font-weight: bold\">)</span> DESC LIMIT <span style=\"color: #008080; text-decoration-color: #008080; font-weight: bold\">1</span>\n",
       "\n",
       "</pre>\n"
      ],
      "text/plain": [
       "\u001b[35m/\u001b[0m* Answer the following: What is the name of the most popular plane? *\u001b[35m/\u001b[0m\n",
       "SELECT plane_name FROM pilotskills GROUP BY plane_name ORDER BY \u001b[1;35mcount\u001b[0m\u001b[1m(\u001b[0m*\u001b[1m)\u001b[0m DESC LIMIT \u001b[1;36m1\u001b[0m\n",
       "\n",
       "\u001b[35m/\u001b[0m* Answer the following: What are the names and original air dates of tv shows? *\u001b[35m/\u001b[0m\n",
       "SELECT tv_show_name ,  Original_Airdate FROM tv_show\n",
       "\n",
       "\u001b[35m/\u001b[0m* Answer the following: Show the people that have been governor the most times. *\u001b[35m/\u001b[0m\n",
       "SELECT Governor FROM party GROUP BY Governor ORDER BY \u001b[1;35mCOUNT\u001b[0m\u001b[1m(\u001b[0m*\u001b[1m)\u001b[0m DESC LIMIT \u001b[1;36m1\u001b[0m\n",
       "\n",
       "\u001b[35m/\u001b[0m* Answer the following: Which store owns most items? *\u001b[35m/\u001b[0m\n",
       "SELECT store_id FROM inventory GROUP BY store_id ORDER BY \u001b[1;35mcount\u001b[0m\u001b[1m(\u001b[0m*\u001b[1m)\u001b[0m DESC LIMIT \u001b[1;36m1\u001b[0m\n",
       "\n",
       "\u001b[35m/\u001b[0m* Answer the following: What is the id of the event with the most participants? *\u001b[35m/\u001b[0m\n",
       "SELECT Event_ID FROM Participants_in_Events GROUP BY Event_ID ORDER BY \u001b[1;35mcount\u001b[0m\u001b[1m(\u001b[0m*\u001b[1m)\u001b[0m DESC LIMIT \u001b[1;36m1\u001b[0m\n",
       "\n"
      ]
     },
     "metadata": {},
     "output_type": "display_data"
    }
   ],
   "source": [
    "unmasked_question_related_queries = \"\\n\".join([Document.metadata['Pairs'] for Document in question_based_similar_documents])\n",
    "print(unmasked_question_related_queries)"
   ]
  },
  {
   "cell_type": "markdown",
   "metadata": {},
   "source": [
    "#### Masked"
   ]
  },
  {
   "cell_type": "code",
   "execution_count": 29,
   "metadata": {},
   "outputs": [
    {
     "data": {
      "text/html": [
       "<pre style=\"white-space:pre;overflow-x:auto;line-height:normal;font-family:Menlo,'DejaVu Sans Mono',consolas,'Courier New',monospace\">What was the most popular <span style=\"font-weight: bold\">&lt;</span><span style=\"color: #ff00ff; text-decoration-color: #ff00ff; font-weight: bold\">mask</span><span style=\"font-weight: bold\">&gt;</span> ?\n",
       "</pre>\n"
      ],
      "text/plain": [
       "What was the most popular \u001b[1m<\u001b[0m\u001b[1;95mmask\u001b[0m\u001b[1m>\u001b[0m ?\n"
      ]
     },
     "metadata": {},
     "output_type": "display_data"
    }
   ],
   "source": [
    "masked_human_question = mask_human_question(question='What was the most popular show?')\n",
    "print(masked_human_question)"
   ]
  },
  {
   "cell_type": "code",
   "execution_count": 30,
   "metadata": {},
   "outputs": [
    {
     "data": {
      "text/html": [
       "<pre style=\"white-space:pre;overflow-x:auto;line-height:normal;font-family:Menlo,'DejaVu Sans Mono',consolas,'Courier New',monospace\"><span style=\"font-weight: bold\">[</span>\n",
       "    <span style=\"color: #800080; text-decoration-color: #800080; font-weight: bold\">Document</span><span style=\"font-weight: bold\">(</span>\n",
       "        <span style=\"color: #808000; text-decoration-color: #808000\">page_content</span>=<span style=\"color: #008000; text-decoration-color: #008000\">'What was the most popular position at &lt;mask&gt;?'</span><span style=\"color: #000000; text-decoration-color: #000000\">,</span>\n",
       "<span style=\"color: #000000; text-decoration-color: #000000\">        </span><span style=\"color: #808000; text-decoration-color: #808000\">metadata</span><span style=\"color: #000000; text-decoration-color: #000000\">=</span><span style=\"color: #000000; text-decoration-color: #000000; font-weight: bold\">{</span>\n",
       "<span style=\"color: #000000; text-decoration-color: #000000\">            </span><span style=\"color: #008000; text-decoration-color: #008000\">'Questions'</span><span style=\"color: #000000; text-decoration-color: #000000\">: </span><span style=\"color: #008000; text-decoration-color: #008000\">'What was the most popular position at tryouts?'</span><span style=\"color: #000000; text-decoration-color: #000000\">,</span>\n",
       "<span style=\"color: #000000; text-decoration-color: #000000\">            </span><span style=\"color: #008000; text-decoration-color: #008000\">'Queries'</span><span style=\"color: #000000; text-decoration-color: #000000\">: </span><span style=\"color: #008000; text-decoration-color: #008000\">'SELECT pPos FROM tryout GROUP BY pPos ORDER BY count(*) DESC LIMIT 1'</span><span style=\"color: #000000; text-decoration-color: #000000\">,</span>\n",
       "<span style=\"color: #000000; text-decoration-color: #000000\">            </span><span style=\"color: #008000; text-decoration-color: #008000\">'Pairs'</span><span style=\"color: #000000; text-decoration-color: #000000\">: </span><span style=\"color: #008000; text-decoration-color: #008000\">'/* Answer the following: What was the most popular position at tryouts? */\\nSELECT pPos FROM </span>\n",
       "<span style=\"color: #008000; text-decoration-color: #008000\">tryout GROUP BY pPos ORDER BY count(*) DESC LIMIT 1\\n'</span>\n",
       "<span style=\"color: #000000; text-decoration-color: #000000\">        </span><span style=\"color: #000000; text-decoration-color: #000000; font-weight: bold\">}</span>\n",
       "<span style=\"color: #000000; text-decoration-color: #000000\">    </span><span style=\"color: #000000; text-decoration-color: #000000; font-weight: bold\">)</span><span style=\"color: #000000; text-decoration-color: #000000\">,</span>\n",
       "<span style=\"color: #000000; text-decoration-color: #000000\">    </span><span style=\"color: #800080; text-decoration-color: #800080; font-weight: bold\">Document</span><span style=\"color: #000000; text-decoration-color: #000000; font-weight: bold\">(</span>\n",
       "<span style=\"color: #000000; text-decoration-color: #000000\">        </span><span style=\"color: #808000; text-decoration-color: #808000\">page_content</span><span style=\"color: #000000; text-decoration-color: #000000\">=</span><span style=\"color: #008000; text-decoration-color: #008000\">'What is the most used &lt;mask&gt;?'</span><span style=\"color: #000000; text-decoration-color: #000000\">,</span>\n",
       "<span style=\"color: #000000; text-decoration-color: #000000\">        </span><span style=\"color: #808000; text-decoration-color: #808000\">metadata</span><span style=\"color: #000000; text-decoration-color: #000000\">=</span><span style=\"color: #000000; text-decoration-color: #000000; font-weight: bold\">{</span>\n",
       "<span style=\"color: #000000; text-decoration-color: #000000\">            </span><span style=\"color: #008000; text-decoration-color: #008000\">'Questions'</span><span style=\"color: #000000; text-decoration-color: #000000\">: </span><span style=\"color: #008000; text-decoration-color: #008000\">'What is the most used instrument?'</span><span style=\"color: #000000; text-decoration-color: #000000\">,</span>\n",
       "<span style=\"color: #000000; text-decoration-color: #000000\">            </span><span style=\"color: #008000; text-decoration-color: #008000\">'Queries'</span><span style=\"color: #000000; text-decoration-color: #000000\">: </span><span style=\"color: #008000; text-decoration-color: #008000\">'SELECT instrument FROM instruments GROUP BY instrument ORDER BY count(*) DESC LIMIT 1'</span><span style=\"color: #000000; text-decoration-color: #000000\">,</span>\n",
       "<span style=\"color: #000000; text-decoration-color: #000000\">            </span><span style=\"color: #008000; text-decoration-color: #008000\">'Pairs'</span><span style=\"color: #000000; text-decoration-color: #000000\">: </span><span style=\"color: #008000; text-decoration-color: #008000\">'/* Answer the following: What is the most used instrument? */\\nSELECT instrument FROM </span>\n",
       "<span style=\"color: #008000; text-decoration-color: #008000\">instruments GROUP BY instrument ORDER BY count(*) DESC LIMIT 1\\n'</span>\n",
       "<span style=\"color: #000000; text-decoration-color: #000000\">        </span><span style=\"color: #000000; text-decoration-color: #000000; font-weight: bold\">}</span>\n",
       "<span style=\"color: #000000; text-decoration-color: #000000\">    </span><span style=\"color: #000000; text-decoration-color: #000000; font-weight: bold\">)</span><span style=\"color: #000000; text-decoration-color: #000000\">,</span>\n",
       "<span style=\"color: #000000; text-decoration-color: #000000\">    </span><span style=\"color: #800080; text-decoration-color: #800080; font-weight: bold\">Document</span><span style=\"color: #000000; text-decoration-color: #000000; font-weight: bold\">(</span>\n",
       "<span style=\"color: #000000; text-decoration-color: #000000\">        </span><span style=\"color: #808000; text-decoration-color: #808000\">page_content</span><span style=\"color: #000000; text-decoration-color: #000000\">=</span><span style=\"color: #008000; text-decoration-color: #008000\">'What is the most popular first name of the &lt;mask&gt;?'</span><span style=\"color: #000000; text-decoration-color: #000000\">,</span>\n",
       "<span style=\"color: #000000; text-decoration-color: #000000\">        </span><span style=\"color: #808000; text-decoration-color: #808000\">metadata</span><span style=\"color: #000000; text-decoration-color: #000000\">=</span><span style=\"color: #000000; text-decoration-color: #000000; font-weight: bold\">{</span>\n",
       "<span style=\"color: #000000; text-decoration-color: #000000\">            </span><span style=\"color: #008000; text-decoration-color: #008000\">'Questions'</span><span style=\"color: #000000; text-decoration-color: #000000\">: </span><span style=\"color: #008000; text-decoration-color: #008000\">'What is the most popular first name of the actors?'</span><span style=\"color: #000000; text-decoration-color: #000000\">,</span>\n",
       "<span style=\"color: #000000; text-decoration-color: #000000\">            </span><span style=\"color: #008000; text-decoration-color: #008000\">'Queries'</span><span style=\"color: #000000; text-decoration-color: #000000\">: </span><span style=\"color: #008000; text-decoration-color: #008000\">'SELECT first_name FROM actor GROUP BY first_name ORDER BY count(*) DESC LIMIT 1'</span><span style=\"color: #000000; text-decoration-color: #000000\">,</span>\n",
       "<span style=\"color: #000000; text-decoration-color: #000000\">            </span><span style=\"color: #008000; text-decoration-color: #008000\">'Pairs'</span><span style=\"color: #000000; text-decoration-color: #000000\">: </span><span style=\"color: #008000; text-decoration-color: #008000\">'/* Answer the following: What is the most popular first name of the actors? */\\nSELECT </span>\n",
       "<span style=\"color: #008000; text-decoration-color: #008000\">first_name FROM actor GROUP BY first_name ORDER BY count(*) DESC LIMIT 1\\n'</span>\n",
       "<span style=\"color: #000000; text-decoration-color: #000000\">        </span><span style=\"color: #000000; text-decoration-color: #000000; font-weight: bold\">}</span>\n",
       "<span style=\"color: #000000; text-decoration-color: #000000\">    </span><span style=\"color: #000000; text-decoration-color: #000000; font-weight: bold\">)</span><span style=\"color: #000000; text-decoration-color: #000000\">,</span>\n",
       "<span style=\"color: #000000; text-decoration-color: #000000\">    </span><span style=\"color: #800080; text-decoration-color: #800080; font-weight: bold\">Document</span><span style=\"color: #000000; text-decoration-color: #000000; font-weight: bold\">(</span>\n",
       "<span style=\"color: #000000; text-decoration-color: #000000\">        </span><span style=\"color: #808000; text-decoration-color: #808000\">page_content</span><span style=\"color: #000000; text-decoration-color: #000000\">=</span><span style=\"color: #008000; text-decoration-color: #008000\">'What are the &lt;mask&gt; with the most &lt;mask&gt;?'</span><span style=\"color: #000000; text-decoration-color: #000000\">,</span>\n",
       "<span style=\"color: #000000; text-decoration-color: #000000\">        </span><span style=\"color: #808000; text-decoration-color: #808000\">metadata</span><span style=\"color: #000000; text-decoration-color: #000000\">=</span><span style=\"color: #000000; text-decoration-color: #000000; font-weight: bold\">{</span>\n",
       "<span style=\"color: #000000; text-decoration-color: #000000\">            </span><span style=\"color: #008000; text-decoration-color: #008000\">'Questions'</span><span style=\"color: #000000; text-decoration-color: #000000\">: </span><span style=\"color: #008000; text-decoration-color: #008000\">'What are the teams with the most technicians?'</span><span style=\"color: #000000; text-decoration-color: #000000\">,</span>\n",
       "<span style=\"color: #000000; text-decoration-color: #000000\">            </span><span style=\"color: #008000; text-decoration-color: #008000\">'Queries'</span><span style=\"color: #000000; text-decoration-color: #000000\">: </span><span style=\"color: #008000; text-decoration-color: #008000\">'SELECT Team FROM technician GROUP BY Team ORDER BY COUNT(*) DESC LIMIT 1'</span><span style=\"color: #000000; text-decoration-color: #000000\">,</span>\n",
       "<span style=\"color: #000000; text-decoration-color: #000000\">            </span><span style=\"color: #008000; text-decoration-color: #008000\">'Pairs'</span><span style=\"color: #000000; text-decoration-color: #000000\">: </span><span style=\"color: #008000; text-decoration-color: #008000\">'/* Answer the following: What are the teams with the most technicians? */\\nSELECT Team FROM </span>\n",
       "<span style=\"color: #008000; text-decoration-color: #008000\">technician GROUP BY Team ORDER BY COUNT(*) DESC LIMIT 1\\n'</span>\n",
       "<span style=\"color: #000000; text-decoration-color: #000000\">        </span><span style=\"color: #000000; text-decoration-color: #000000; font-weight: bold\">}</span>\n",
       "<span style=\"color: #000000; text-decoration-color: #000000\">    </span><span style=\"color: #000000; text-decoration-color: #000000; font-weight: bold\">)</span><span style=\"color: #000000; text-decoration-color: #000000\">,</span>\n",
       "<span style=\"color: #000000; text-decoration-color: #000000\">    </span><span style=\"color: #800080; text-decoration-color: #800080; font-weight: bold\">Document</span><span style=\"color: #000000; text-decoration-color: #000000; font-weight: bold\">(</span>\n",
       "<span style=\"color: #000000; text-decoration-color: #000000\">        </span><span style=\"color: #808000; text-decoration-color: #808000\">page_content</span><span style=\"color: #000000; text-decoration-color: #000000\">=</span><span style=\"color: #008000; text-decoration-color: #008000\">'What is the most popular full name of the &lt;mask&gt;?'</span>,\n",
       "        <span style=\"color: #808000; text-decoration-color: #808000\">metadata</span>=<span style=\"font-weight: bold\">{</span>\n",
       "            <span style=\"color: #008000; text-decoration-color: #008000\">'Questions'</span>: <span style=\"color: #008000; text-decoration-color: #008000\">'What is the most popular full name of the actors?'</span>,\n",
       "            <span style=\"color: #008000; text-decoration-color: #008000\">'Queries'</span>: <span style=\"color: #008000; text-decoration-color: #008000\">'SELECT first_name ,  last_name FROM actor GROUP BY first_name ,  last_name ORDER BY </span>\n",
       "<span style=\"color: #008000; text-decoration-color: #008000\">count(*) DESC LIMIT 1'</span>,\n",
       "            <span style=\"color: #008000; text-decoration-color: #008000\">'Pairs'</span>: <span style=\"color: #008000; text-decoration-color: #008000\">'/* Answer the following: What is the most popular full name of the actors? */\\nSELECT </span>\n",
       "<span style=\"color: #008000; text-decoration-color: #008000\">first_name ,  last_name FROM actor GROUP BY first_name ,  last_name ORDER BY count(*) DESC LIMIT 1\\n'</span>\n",
       "        <span style=\"font-weight: bold\">}</span>\n",
       "    <span style=\"font-weight: bold\">)</span>\n",
       "<span style=\"font-weight: bold\">]</span>\n",
       "</pre>\n"
      ],
      "text/plain": [
       "\u001b[1m[\u001b[0m\n",
       "    \u001b[1;35mDocument\u001b[0m\u001b[1m(\u001b[0m\n",
       "        \u001b[33mpage_content\u001b[0m=\u001b[32m'What was the most popular position at \u001b[0m\u001b[32m<\u001b[0m\u001b[32mmask\u001b[0m\u001b[32m>?'\u001b[0m\u001b[39m,\u001b[0m\n",
       "\u001b[39m        \u001b[0m\u001b[33mmetadata\u001b[0m\u001b[39m=\u001b[0m\u001b[1;39m{\u001b[0m\n",
       "\u001b[39m            \u001b[0m\u001b[32m'Questions'\u001b[0m\u001b[39m: \u001b[0m\u001b[32m'What was the most popular position at tryouts?'\u001b[0m\u001b[39m,\u001b[0m\n",
       "\u001b[39m            \u001b[0m\u001b[32m'Queries'\u001b[0m\u001b[39m: \u001b[0m\u001b[32m'SELECT pPos FROM tryout GROUP BY pPos ORDER BY count\u001b[0m\u001b[32m(\u001b[0m\u001b[32m*\u001b[0m\u001b[32m)\u001b[0m\u001b[32m DESC LIMIT 1'\u001b[0m\u001b[39m,\u001b[0m\n",
       "\u001b[39m            \u001b[0m\u001b[32m'Pairs'\u001b[0m\u001b[39m: \u001b[0m\u001b[32m'/* Answer the following: What was the most popular position at tryouts? */\\nSELECT pPos FROM \u001b[0m\n",
       "\u001b[32mtryout GROUP BY pPos ORDER BY count\u001b[0m\u001b[32m(\u001b[0m\u001b[32m*\u001b[0m\u001b[32m)\u001b[0m\u001b[32m DESC LIMIT 1\\n'\u001b[0m\n",
       "\u001b[39m        \u001b[0m\u001b[1;39m}\u001b[0m\n",
       "\u001b[39m    \u001b[0m\u001b[1;39m)\u001b[0m\u001b[39m,\u001b[0m\n",
       "\u001b[39m    \u001b[0m\u001b[1;35mDocument\u001b[0m\u001b[1;39m(\u001b[0m\n",
       "\u001b[39m        \u001b[0m\u001b[33mpage_content\u001b[0m\u001b[39m=\u001b[0m\u001b[32m'What is the most used <mask>?'\u001b[0m\u001b[39m,\u001b[0m\n",
       "\u001b[39m        \u001b[0m\u001b[33mmetadata\u001b[0m\u001b[39m=\u001b[0m\u001b[1;39m{\u001b[0m\n",
       "\u001b[39m            \u001b[0m\u001b[32m'Questions'\u001b[0m\u001b[39m: \u001b[0m\u001b[32m'What is the most used instrument?'\u001b[0m\u001b[39m,\u001b[0m\n",
       "\u001b[39m            \u001b[0m\u001b[32m'Queries'\u001b[0m\u001b[39m: \u001b[0m\u001b[32m'SELECT instrument FROM instruments GROUP BY instrument ORDER BY count\u001b[0m\u001b[32m(\u001b[0m\u001b[32m*\u001b[0m\u001b[32m)\u001b[0m\u001b[32m DESC LIMIT 1'\u001b[0m\u001b[39m,\u001b[0m\n",
       "\u001b[39m            \u001b[0m\u001b[32m'Pairs'\u001b[0m\u001b[39m: \u001b[0m\u001b[32m'/* Answer the following: What is the most used instrument? */\\nSELECT instrument FROM \u001b[0m\n",
       "\u001b[32minstruments GROUP BY instrument ORDER BY count\u001b[0m\u001b[32m(\u001b[0m\u001b[32m*\u001b[0m\u001b[32m)\u001b[0m\u001b[32m DESC LIMIT 1\\n'\u001b[0m\n",
       "\u001b[39m        \u001b[0m\u001b[1;39m}\u001b[0m\n",
       "\u001b[39m    \u001b[0m\u001b[1;39m)\u001b[0m\u001b[39m,\u001b[0m\n",
       "\u001b[39m    \u001b[0m\u001b[1;35mDocument\u001b[0m\u001b[1;39m(\u001b[0m\n",
       "\u001b[39m        \u001b[0m\u001b[33mpage_content\u001b[0m\u001b[39m=\u001b[0m\u001b[32m'What is the most popular first name of the <mask>?'\u001b[0m\u001b[39m,\u001b[0m\n",
       "\u001b[39m        \u001b[0m\u001b[33mmetadata\u001b[0m\u001b[39m=\u001b[0m\u001b[1;39m{\u001b[0m\n",
       "\u001b[39m            \u001b[0m\u001b[32m'Questions'\u001b[0m\u001b[39m: \u001b[0m\u001b[32m'What is the most popular first name of the actors?'\u001b[0m\u001b[39m,\u001b[0m\n",
       "\u001b[39m            \u001b[0m\u001b[32m'Queries'\u001b[0m\u001b[39m: \u001b[0m\u001b[32m'SELECT first_name FROM actor GROUP BY first_name ORDER BY count\u001b[0m\u001b[32m(\u001b[0m\u001b[32m*\u001b[0m\u001b[32m)\u001b[0m\u001b[32m DESC LIMIT 1'\u001b[0m\u001b[39m,\u001b[0m\n",
       "\u001b[39m            \u001b[0m\u001b[32m'Pairs'\u001b[0m\u001b[39m: \u001b[0m\u001b[32m'/* Answer the following: What is the most popular first name of the actors? */\\nSELECT \u001b[0m\n",
       "\u001b[32mfirst_name FROM actor GROUP BY first_name ORDER BY count\u001b[0m\u001b[32m(\u001b[0m\u001b[32m*\u001b[0m\u001b[32m)\u001b[0m\u001b[32m DESC LIMIT 1\\n'\u001b[0m\n",
       "\u001b[39m        \u001b[0m\u001b[1;39m}\u001b[0m\n",
       "\u001b[39m    \u001b[0m\u001b[1;39m)\u001b[0m\u001b[39m,\u001b[0m\n",
       "\u001b[39m    \u001b[0m\u001b[1;35mDocument\u001b[0m\u001b[1;39m(\u001b[0m\n",
       "\u001b[39m        \u001b[0m\u001b[33mpage_content\u001b[0m\u001b[39m=\u001b[0m\u001b[32m'What are the <mask> with the most <mask>?'\u001b[0m\u001b[39m,\u001b[0m\n",
       "\u001b[39m        \u001b[0m\u001b[33mmetadata\u001b[0m\u001b[39m=\u001b[0m\u001b[1;39m{\u001b[0m\n",
       "\u001b[39m            \u001b[0m\u001b[32m'Questions'\u001b[0m\u001b[39m: \u001b[0m\u001b[32m'What are the teams with the most technicians?'\u001b[0m\u001b[39m,\u001b[0m\n",
       "\u001b[39m            \u001b[0m\u001b[32m'Queries'\u001b[0m\u001b[39m: \u001b[0m\u001b[32m'SELECT Team FROM technician GROUP BY Team ORDER BY COUNT\u001b[0m\u001b[32m(\u001b[0m\u001b[32m*\u001b[0m\u001b[32m)\u001b[0m\u001b[32m DESC LIMIT 1'\u001b[0m\u001b[39m,\u001b[0m\n",
       "\u001b[39m            \u001b[0m\u001b[32m'Pairs'\u001b[0m\u001b[39m: \u001b[0m\u001b[32m'/* Answer the following: What are the teams with the most technicians? */\\nSELECT Team FROM \u001b[0m\n",
       "\u001b[32mtechnician GROUP BY Team ORDER BY COUNT\u001b[0m\u001b[32m(\u001b[0m\u001b[32m*\u001b[0m\u001b[32m)\u001b[0m\u001b[32m DESC LIMIT 1\\n'\u001b[0m\n",
       "\u001b[39m        \u001b[0m\u001b[1;39m}\u001b[0m\n",
       "\u001b[39m    \u001b[0m\u001b[1;39m)\u001b[0m\u001b[39m,\u001b[0m\n",
       "\u001b[39m    \u001b[0m\u001b[1;35mDocument\u001b[0m\u001b[1;39m(\u001b[0m\n",
       "\u001b[39m        \u001b[0m\u001b[33mpage_content\u001b[0m\u001b[39m=\u001b[0m\u001b[32m'What is the most popular full name of the <mask\u001b[0m\u001b[32m>\u001b[0m\u001b[32m?'\u001b[0m,\n",
       "        \u001b[33mmetadata\u001b[0m=\u001b[1m{\u001b[0m\n",
       "            \u001b[32m'Questions'\u001b[0m: \u001b[32m'What is the most popular full name of the actors?'\u001b[0m,\n",
       "            \u001b[32m'Queries'\u001b[0m: \u001b[32m'SELECT first_name ,  last_name FROM actor GROUP BY first_name ,  last_name ORDER BY \u001b[0m\n",
       "\u001b[32mcount\u001b[0m\u001b[32m(\u001b[0m\u001b[32m*\u001b[0m\u001b[32m)\u001b[0m\u001b[32m DESC LIMIT 1'\u001b[0m,\n",
       "            \u001b[32m'Pairs'\u001b[0m: \u001b[32m'/* Answer the following: What is the most popular full name of the actors? */\\nSELECT \u001b[0m\n",
       "\u001b[32mfirst_name ,  last_name FROM actor GROUP BY first_name ,  last_name ORDER BY count\u001b[0m\u001b[32m(\u001b[0m\u001b[32m*\u001b[0m\u001b[32m)\u001b[0m\u001b[32m DESC LIMIT 1\\n'\u001b[0m\n",
       "        \u001b[1m}\u001b[0m\n",
       "    \u001b[1m)\u001b[0m\n",
       "\u001b[1m]\u001b[0m\n"
      ]
     },
     "metadata": {},
     "output_type": "display_data"
    }
   ],
   "source": [
    "similar_query_context = vector_database.similarity_search(query=masked_human_question, k=5)\n",
    "print(similar_query_context)"
   ]
  },
  {
   "cell_type": "code",
   "execution_count": 31,
   "metadata": {},
   "outputs": [
    {
     "data": {
      "text/html": [
       "<pre style=\"white-space:pre;overflow-x:auto;line-height:normal;font-family:Menlo,'DejaVu Sans Mono',consolas,'Courier New',monospace\"><span style=\"color: #800080; text-decoration-color: #800080\">/</span>* Answer the following: What was the most popular position at tryouts? *<span style=\"color: #800080; text-decoration-color: #800080\">/</span>\n",
       "SELECT pPos FROM tryout GROUP BY pPos ORDER BY <span style=\"color: #800080; text-decoration-color: #800080; font-weight: bold\">count</span><span style=\"font-weight: bold\">(</span>*<span style=\"font-weight: bold\">)</span> DESC LIMIT <span style=\"color: #008080; text-decoration-color: #008080; font-weight: bold\">1</span>\n",
       "\n",
       "<span style=\"color: #800080; text-decoration-color: #800080\">/</span>* Answer the following: What is the most used instrument? *<span style=\"color: #800080; text-decoration-color: #800080\">/</span>\n",
       "SELECT instrument FROM instruments GROUP BY instrument ORDER BY <span style=\"color: #800080; text-decoration-color: #800080; font-weight: bold\">count</span><span style=\"font-weight: bold\">(</span>*<span style=\"font-weight: bold\">)</span> DESC LIMIT <span style=\"color: #008080; text-decoration-color: #008080; font-weight: bold\">1</span>\n",
       "\n",
       "<span style=\"color: #800080; text-decoration-color: #800080\">/</span>* Answer the following: What is the most popular first name of the actors? *<span style=\"color: #800080; text-decoration-color: #800080\">/</span>\n",
       "SELECT first_name FROM actor GROUP BY first_name ORDER BY <span style=\"color: #800080; text-decoration-color: #800080; font-weight: bold\">count</span><span style=\"font-weight: bold\">(</span>*<span style=\"font-weight: bold\">)</span> DESC LIMIT <span style=\"color: #008080; text-decoration-color: #008080; font-weight: bold\">1</span>\n",
       "\n",
       "<span style=\"color: #800080; text-decoration-color: #800080\">/</span>* Answer the following: What are the teams with the most technicians? *<span style=\"color: #800080; text-decoration-color: #800080\">/</span>\n",
       "SELECT Team FROM technician GROUP BY Team ORDER BY <span style=\"color: #800080; text-decoration-color: #800080; font-weight: bold\">COUNT</span><span style=\"font-weight: bold\">(</span>*<span style=\"font-weight: bold\">)</span> DESC LIMIT <span style=\"color: #008080; text-decoration-color: #008080; font-weight: bold\">1</span>\n",
       "\n",
       "<span style=\"color: #800080; text-decoration-color: #800080\">/</span>* Answer the following: What is the most popular full name of the actors? *<span style=\"color: #800080; text-decoration-color: #800080\">/</span>\n",
       "SELECT first_name ,  last_name FROM actor GROUP BY first_name ,  last_name ORDER BY <span style=\"color: #800080; text-decoration-color: #800080; font-weight: bold\">count</span><span style=\"font-weight: bold\">(</span>*<span style=\"font-weight: bold\">)</span> DESC LIMIT <span style=\"color: #008080; text-decoration-color: #008080; font-weight: bold\">1</span>\n",
       "\n",
       "</pre>\n"
      ],
      "text/plain": [
       "\u001b[35m/\u001b[0m* Answer the following: What was the most popular position at tryouts? *\u001b[35m/\u001b[0m\n",
       "SELECT pPos FROM tryout GROUP BY pPos ORDER BY \u001b[1;35mcount\u001b[0m\u001b[1m(\u001b[0m*\u001b[1m)\u001b[0m DESC LIMIT \u001b[1;36m1\u001b[0m\n",
       "\n",
       "\u001b[35m/\u001b[0m* Answer the following: What is the most used instrument? *\u001b[35m/\u001b[0m\n",
       "SELECT instrument FROM instruments GROUP BY instrument ORDER BY \u001b[1;35mcount\u001b[0m\u001b[1m(\u001b[0m*\u001b[1m)\u001b[0m DESC LIMIT \u001b[1;36m1\u001b[0m\n",
       "\n",
       "\u001b[35m/\u001b[0m* Answer the following: What is the most popular first name of the actors? *\u001b[35m/\u001b[0m\n",
       "SELECT first_name FROM actor GROUP BY first_name ORDER BY \u001b[1;35mcount\u001b[0m\u001b[1m(\u001b[0m*\u001b[1m)\u001b[0m DESC LIMIT \u001b[1;36m1\u001b[0m\n",
       "\n",
       "\u001b[35m/\u001b[0m* Answer the following: What are the teams with the most technicians? *\u001b[35m/\u001b[0m\n",
       "SELECT Team FROM technician GROUP BY Team ORDER BY \u001b[1;35mCOUNT\u001b[0m\u001b[1m(\u001b[0m*\u001b[1m)\u001b[0m DESC LIMIT \u001b[1;36m1\u001b[0m\n",
       "\n",
       "\u001b[35m/\u001b[0m* Answer the following: What is the most popular full name of the actors? *\u001b[35m/\u001b[0m\n",
       "SELECT first_name ,  last_name FROM actor GROUP BY first_name ,  last_name ORDER BY \u001b[1;35mcount\u001b[0m\u001b[1m(\u001b[0m*\u001b[1m)\u001b[0m DESC LIMIT \u001b[1;36m1\u001b[0m\n",
       "\n"
      ]
     },
     "metadata": {},
     "output_type": "display_data"
    }
   ],
   "source": [
    "related_queries = \"\\n\".join([Document.metadata['Pairs'] for Document in similar_query_context])\n",
    "print(related_queries)"
   ]
  },
  {
   "cell_type": "markdown",
   "metadata": {},
   "source": [
    "### Generate the SQL query with an LLM"
   ]
  },
  {
   "cell_type": "code",
   "execution_count": 32,
   "metadata": {},
   "outputs": [
    {
     "data": {
      "text/html": [
       "<pre style=\"white-space:pre;overflow-x:auto;line-height:normal;font-family:Menlo,'DejaVu Sans Mono',consolas,'Courier New',monospace\">SELECT show_title FROM Netflix GROUP BY show_title ORDER BY <span style=\"color: #800080; text-decoration-color: #800080; font-weight: bold\">SUM</span><span style=\"font-weight: bold\">(</span>weekly_hours_viewed<span style=\"font-weight: bold\">)</span> DESC LIMIT <span style=\"color: #008080; text-decoration-color: #008080; font-weight: bold\">1</span>\n",
       "\n",
       "</pre>\n"
      ],
      "text/plain": [
       "SELECT show_title FROM Netflix GROUP BY show_title ORDER BY \u001b[1;35mSUM\u001b[0m\u001b[1m(\u001b[0mweekly_hours_viewed\u001b[1m)\u001b[0m DESC LIMIT \u001b[1;36m1\u001b[0m\n",
       "\n"
      ]
     },
     "metadata": {},
     "output_type": "display_data"
    }
   ],
   "source": [
    "from openai import OpenAI\n",
    "from dotenv import load_dotenv\n",
    "load_dotenv()\n",
    "import os\n",
    "\n",
    "client = OpenAI(api_key=os.environ.get(\"OPENAI_API_KEY\"))\n",
    "\n",
    "def openai_generate_sql_query(prompt: str) -> str:    \n",
    "    chat_completion = client.chat.completions.create(messages=[{\"role\": \"user\", \"content\": prompt}], model=\"gpt-4-1106-preview\", temperature=0)\n",
    "    sql_query = chat_completion.choices[0].message.content\n",
    "    cleaned_sql_query = sql_query.replace('`', '').replace('sql\\n', '')\n",
    "    return cleaned_sql_query\n",
    "\n",
    "sql_query = openai_generate_sql_query(prompt)\n",
    "print(sql_query)"
   ]
  },
  {
   "cell_type": "markdown",
   "metadata": {},
   "source": [
    "### Querying the SQLite Database"
   ]
  },
  {
   "cell_type": "code",
   "execution_count": 33,
   "metadata": {},
   "outputs": [],
   "source": [
    "import sqlite3\n",
    "\n",
    "DATABASE_URL = \"data/databases/netflix.db\"\n",
    "\n",
    "def call_sql_endpoint(sql_query: str):\n",
    "    try:\n",
    "        with sqlite3.connect(DATABASE_URL) as connection:\n",
    "            cursor = connection.cursor()\n",
    "            cursor.execute(sql_query)\n",
    "            columns = [desc[0] for desc in cursor.description]\n",
    "            rows = cursor.fetchall()\n",
    "            cursor.close()\n",
    "            return columns, rows\n",
    "    except Exception as e:\n",
    "        print(f\"Unexpected error: {e}\")\n",
    "        raise RuntimeError(\"An unexpected error occurred. Please contact support if the problem persists.\") from e"
   ]
  },
  {
   "cell_type": "code",
   "execution_count": 34,
   "metadata": {},
   "outputs": [
    {
     "data": {
      "text/html": [
       "<pre style=\"white-space:pre;overflow-x:auto;line-height:normal;font-family:Menlo,'DejaVu Sans Mono',consolas,'Courier New',monospace\">What was the most popular show?\n",
       "</pre>\n"
      ],
      "text/plain": [
       "What was the most popular show?\n"
      ]
     },
     "metadata": {},
     "output_type": "display_data"
    },
    {
     "data": {
      "text/html": [
       "<pre style=\"white-space:pre;overflow-x:auto;line-height:normal;font-family:Menlo,'DejaVu Sans Mono',consolas,'Courier New',monospace\"><span style=\"font-weight: bold\">([</span><span style=\"color: #008000; text-decoration-color: #008000\">'show_title'</span><span style=\"font-weight: bold\">]</span>, <span style=\"font-weight: bold\">[(</span><span style=\"color: #008000; text-decoration-color: #008000\">'Stranger Things'</span>,<span style=\"font-weight: bold\">)])</span>\n",
       "</pre>\n"
      ],
      "text/plain": [
       "\u001b[1m(\u001b[0m\u001b[1m[\u001b[0m\u001b[32m'show_title'\u001b[0m\u001b[1m]\u001b[0m, \u001b[1m[\u001b[0m\u001b[1m(\u001b[0m\u001b[32m'Stranger Things'\u001b[0m,\u001b[1m)\u001b[0m\u001b[1m]\u001b[0m\u001b[1m)\u001b[0m\n"
      ]
     },
     "metadata": {},
     "output_type": "display_data"
    }
   ],
   "source": [
    "result = call_sql_endpoint(sql_query)\n",
    "print(question)\n",
    "print(result)"
   ]
  },
  {
   "cell_type": "code",
   "execution_count": 35,
   "metadata": {},
   "outputs": [
    {
     "data": {
      "text/plain": [
       "'SELECT show_title FROM Netflix GROUP BY show_title ORDER BY SUM(weekly_hours_viewed) DESC LIMIT 1\\n'"
      ]
     },
     "execution_count": 35,
     "metadata": {},
     "output_type": "execute_result"
    }
   ],
   "source": [
    "sql_query"
   ]
  },
  {
   "cell_type": "markdown",
   "metadata": {},
   "source": [
    "## Next Steps\n",
    "\n",
    "As Next Steps we could:\n",
    "\n",
    "- We can generate a service from this and implement `self-consistency`.\n",
    "- `Validate` our results and seek areas for improvement.\n",
    "- We could explain or visualize the response."
   ]
  }
 ],
 "metadata": {
  "kernelspec": {
   "display_name": "Python 3",
   "language": "python",
   "name": "python3"
  },
  "language_info": {
   "codemirror_mode": {
    "name": "ipython",
    "version": 3
   },
   "file_extension": ".py",
   "mimetype": "text/x-python",
   "name": "python",
   "nbconvert_exporter": "python",
   "pygments_lexer": "ipython3",
   "version": "3.11.7"
  }
 },
 "nbformat": 4,
 "nbformat_minor": 2
}
